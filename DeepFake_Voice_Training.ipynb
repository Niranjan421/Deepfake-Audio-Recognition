{
 "cells": [
  {
   "cell_type": "code",
   "execution_count": null,
   "metadata": {
    "_cell_guid": "b1076dfc-b9ad-4769-8c92-a6c4dae69d19",
    "_kg_hide-output": true,
    "_uuid": "8f2839f25d086af736a60e9eeb907d3b93b6e0e5",
    "collapsed": true,
    "execution": {
     "iopub.execute_input": "2023-12-21T16:26:09.623187Z",
     "iopub.status.busy": "2023-12-21T16:26:09.622716Z",
     "iopub.status.idle": "2023-12-21T16:26:10.145926Z",
     "shell.execute_reply": "2023-12-21T16:26:10.144665Z",
     "shell.execute_reply.started": "2023-12-21T16:26:09.623143Z"
    },
    "jupyter": {
     "outputs_hidden": true
    }
   },
   "outputs": [],
   "source": [
    "\n",
    "\n",
    "import numpy as np \n",
    "import pandas as pd \n",
    "\n",
    "\n",
    "import os\n",
    "for dirname, _, filenames in os.walk('../dataset/input'):\n",
    "    for filename in filenames:\n",
    "        print(os.path.join(dirname, filename))\n",
    "\n"
   ]
  },
  {
   "cell_type": "markdown",
   "metadata": {},
   "source": [
    "# Import Libraries"
   ]
  },
  {
   "cell_type": "code",
   "execution_count": null,
   "metadata": {
    "execution": {
     "iopub.execute_input": "2023-12-21T16:32:58.488284Z",
     "iopub.status.busy": "2023-12-21T16:32:58.487817Z",
     "iopub.status.idle": "2023-12-21T16:33:12.398003Z",
     "shell.execute_reply": "2023-12-21T16:33:12.396855Z",
     "shell.execute_reply.started": "2023-12-21T16:32:58.488242Z"
    }
   },
   "outputs": [],
   "source": [
    "!pip install resampy"
   ]
  },
  {
   "cell_type": "code",
   "execution_count": null,
   "metadata": {
    "execution": {
     "iopub.execute_input": "2023-12-21T16:33:12.400645Z",
     "iopub.status.busy": "2023-12-21T16:33:12.400233Z",
     "iopub.status.idle": "2023-12-21T16:33:27.218847Z",
     "shell.execute_reply": "2023-12-21T16:33:27.217855Z",
     "shell.execute_reply.started": "2023-12-21T16:33:12.400611Z"
    }
   },
   "outputs": [],
   "source": [
    "import numpy as np\n",
    "import pandas as pd\n",
    "import os\n",
    "import librosa\n",
    "import matplotlib.pyplot as plt\n",
    "import seaborn as sns\n",
    "from tqdm import tqdm\n",
    "import IPython\n",
    "from sklearn.model_selection import train_test_split\n",
    "from sklearn.preprocessing import LabelEncoder\n",
    "from imblearn.over_sampling import RandomOverSampler\n",
    "from tensorflow.keras.models import Sequential\n",
    "from tensorflow.keras.layers import Dense, Activation, Dropout, Conv2D, MaxPool2D, Flatten\n",
    "from tensorflow.keras.utils import to_categorical\n",
    "from tensorflow.keras.callbacks import EarlyStopping"
   ]
  },
  {
   "cell_type": "markdown",
   "metadata": {},
   "source": [
    "# Load Data"
   ]
  },
  {
   "cell_type": "code",
   "execution_count": null,
   "metadata": {
    "execution": {
     "iopub.execute_input": "2023-12-21T16:33:41.067343Z",
     "iopub.status.busy": "2023-12-21T16:33:41.066519Z",
     "iopub.status.idle": "2023-12-21T16:33:41.072451Z",
     "shell.execute_reply": "2023-12-21T16:33:41.071245Z",
     "shell.execute_reply.started": "2023-12-21T16:33:41.067303Z"
    }
   },
   "outputs": [],
   "source": [
    "audio_files_path = \"../dataset/input/\""
   ]
  },
  {
   "cell_type": "code",
   "execution_count": null,
   "metadata": {
    "execution": {
     "iopub.execute_input": "2023-12-21T16:33:41.634563Z",
     "iopub.status.busy": "2023-12-21T16:33:41.634084Z",
     "iopub.status.idle": "2023-12-21T16:33:41.647131Z",
     "shell.execute_reply": "2023-12-21T16:33:41.645904Z",
     "shell.execute_reply.started": "2023-12-21T16:33:41.634532Z"
    }
   },
   "outputs": [],
   "source": [
    "folders = os.listdir(audio_files_path)\n",
    "print(folders)"
   ]
  },
  {
   "cell_type": "code",
   "execution_count": null,
   "metadata": {
    "execution": {
     "iopub.execute_input": "2023-12-21T16:33:42.468563Z",
     "iopub.status.busy": "2023-12-21T16:33:42.467762Z",
     "iopub.status.idle": "2023-12-21T16:33:42.47421Z",
     "shell.execute_reply": "2023-12-21T16:33:42.473076Z",
     "shell.execute_reply.started": "2023-12-21T16:33:42.46851Z"
    }
   },
   "outputs": [],
   "source": [
    "real_audio = \"../dataset/input/linus-original-DEMO.mp3\"\n",
    "fake_audio = \"../dataset/input/linus-to-musk-DEMO.mp3\""
   ]
  },
  {
   "cell_type": "markdown",
   "metadata": {},
   "source": [
    "# Visualization"
   ]
  },
  {
   "cell_type": "code",
   "execution_count": null,
   "metadata": {
    "execution": {
     "iopub.execute_input": "2023-12-21T16:33:43.612218Z",
     "iopub.status.busy": "2023-12-21T16:33:43.611291Z",
     "iopub.status.idle": "2023-12-21T16:33:43.617539Z",
     "shell.execute_reply": "2023-12-21T16:33:43.616553Z",
     "shell.execute_reply.started": "2023-12-21T16:33:43.612176Z"
    }
   },
   "outputs": [],
   "source": [
    "print(\"Real Audio:\")\n",
    "#IPython.display.Audio(real_audio)"
   ]
  },
  {
   "cell_type": "code",
   "execution_count": null,
   "metadata": {
    "execution": {
     "iopub.execute_input": "2023-12-21T16:33:44.095733Z",
     "iopub.status.busy": "2023-12-21T16:33:44.095312Z",
     "iopub.status.idle": "2023-12-21T16:33:44.101311Z",
     "shell.execute_reply": "2023-12-21T16:33:44.100138Z",
     "shell.execute_reply.started": "2023-12-21T16:33:44.095702Z"
    }
   },
   "outputs": [],
   "source": [
    "print(\"Fake Audio:\")\n",
    "#IPython.display.Audio(fake_audio)"
   ]
  },
  {
   "cell_type": "code",
   "execution_count": null,
   "metadata": {
    "execution": {
     "iopub.execute_input": "2023-12-21T16:34:00.536952Z",
     "iopub.status.busy": "2023-12-21T16:34:00.536488Z",
     "iopub.status.idle": "2023-12-21T16:34:05.633565Z",
     "shell.execute_reply": "2023-12-21T16:34:05.632304Z",
     "shell.execute_reply.started": "2023-12-21T16:34:00.536916Z"
    }
   },
   "outputs": [],
   "source": [
    "real_ad, real_sr = librosa.load(real_audio)\n",
    "plt.figure(figsize=(12, 4))\n",
    "plt.plot(real_ad)\n",
    "plt.title(\"Real Audio Data\")\n",
    "plt.show()"
   ]
  },
  {
   "cell_type": "code",
   "execution_count": null,
   "metadata": {
    "execution": {
     "iopub.execute_input": "2023-12-21T16:34:05.636934Z",
     "iopub.status.busy": "2023-12-21T16:34:05.635962Z",
     "iopub.status.idle": "2023-12-21T16:34:08.070131Z",
     "shell.execute_reply": "2023-12-21T16:34:08.068938Z",
     "shell.execute_reply.started": "2023-12-21T16:34:05.636884Z"
    }
   },
   "outputs": [],
   "source": [
    "real_spec = np.abs(librosa.stft(real_ad))\n",
    "real_spec = librosa.amplitude_to_db(real_spec, ref=np.max)\n",
    "\n",
    "plt.figure(figsize=(14, 5))\n",
    "librosa.display.specshow(real_spec, sr=real_sr, x_axis=\"time\", y_axis=\"log\")\n",
    "plt.colorbar(format=\"%+2.0f dB\")\n",
    "plt.title(\"Real Audio Spectogram\")\n",
    "plt.show()"
   ]
  },
  {
   "cell_type": "code",
   "execution_count": null,
   "metadata": {
    "execution": {
     "iopub.execute_input": "2023-12-21T16:34:08.072258Z",
     "iopub.status.busy": "2023-12-21T16:34:08.071763Z",
     "iopub.status.idle": "2023-12-21T16:34:10.10585Z",
     "shell.execute_reply": "2023-12-21T16:34:10.104684Z",
     "shell.execute_reply.started": "2023-12-21T16:34:08.07221Z"
    }
   },
   "outputs": [],
   "source": [
    "real_mel_spect = librosa.feature.melspectrogram(y=real_ad, sr=real_sr)\n",
    "real_mel_spect = librosa.power_to_db(real_mel_spect, ref=np.max)\n",
    "\n",
    "plt.figure(figsize=(14, 5))\n",
    "librosa.display.specshow(real_mel_spect, y_axis=\"mel\", x_axis=\"time\")\n",
    "plt.title(\"Real Audio Mel Spectogram\")\n",
    "plt.colorbar(format=\"%+2.0f dB\")\n",
    "plt.show()"
   ]
  },
  {
   "cell_type": "code",
   "execution_count": null,
   "metadata": {
    "execution": {
     "iopub.execute_input": "2023-12-21T16:34:10.108709Z",
     "iopub.status.busy": "2023-12-21T16:34:10.108305Z",
     "iopub.status.idle": "2023-12-21T16:34:11.453546Z",
     "shell.execute_reply": "2023-12-21T16:34:11.45229Z",
     "shell.execute_reply.started": "2023-12-21T16:34:10.108674Z"
    }
   },
   "outputs": [],
   "source": [
    "real_chroma = librosa.feature.chroma_cqt(y=real_ad, sr=real_sr, bins_per_octave=36)\n",
    "\n",
    "plt.figure(figsize=(14, 5))\n",
    "librosa.display.specshow(real_chroma, sr=real_sr, x_axis=\"time\", y_axis=\"chroma\", vmin=0, vmax=1)\n",
    "plt.colorbar()\n",
    "plt.title(\"Real Audio Chromagram\")\n",
    "plt.show()"
   ]
  },
  {
   "cell_type": "code",
   "execution_count": null,
   "metadata": {
    "execution": {
     "iopub.execute_input": "2023-12-21T16:34:11.455166Z",
     "iopub.status.busy": "2023-12-21T16:34:11.454793Z",
     "iopub.status.idle": "2023-12-21T16:34:11.962585Z",
     "shell.execute_reply": "2023-12-21T16:34:11.961222Z",
     "shell.execute_reply.started": "2023-12-21T16:34:11.455117Z"
    }
   },
   "outputs": [],
   "source": [
    "real_mfccs = librosa.feature.mfcc(y=real_ad, sr=real_sr)\n",
    "\n",
    "plt.figure(figsize=(14, 5))\n",
    "librosa.display.specshow(real_mfccs, sr=real_sr, x_axis=\"time\")\n",
    "plt.colorbar()\n",
    "plt.title(\"Real Audio Mel-Frequency Cepstral Coefficients (MFCCs)\")\n",
    "plt.show()"
   ]
  },
  {
   "cell_type": "code",
   "execution_count": null,
   "metadata": {
    "execution": {
     "iopub.execute_input": "2023-12-21T16:34:11.965168Z",
     "iopub.status.busy": "2023-12-21T16:34:11.964653Z",
     "iopub.status.idle": "2023-12-21T16:34:12.662945Z",
     "shell.execute_reply": "2023-12-21T16:34:12.66186Z",
     "shell.execute_reply.started": "2023-12-21T16:34:11.965103Z"
    }
   },
   "outputs": [],
   "source": [
    "fake_ad, fake_sr = librosa.load(fake_audio)\n",
    "plt.figure(figsize=(12, 4))\n",
    "plt.plot(fake_ad)\n",
    "plt.title(\"Fake Audio Data\")\n",
    "plt.show()"
   ]
  },
  {
   "cell_type": "code",
   "execution_count": null,
   "metadata": {
    "execution": {
     "iopub.execute_input": "2023-12-21T16:34:12.664432Z",
     "iopub.status.busy": "2023-12-21T16:34:12.664104Z",
     "iopub.status.idle": "2023-12-21T16:34:15.182395Z",
     "shell.execute_reply": "2023-12-21T16:34:15.18112Z",
     "shell.execute_reply.started": "2023-12-21T16:34:12.664403Z"
    }
   },
   "outputs": [],
   "source": [
    "fake_spec = np.abs(librosa.stft(fake_ad))\n",
    "fake_spec = librosa.amplitude_to_db(fake_spec, ref=np.max)\n",
    "\n",
    "plt.figure(figsize=(14, 5))\n",
    "librosa.display.specshow(fake_spec, sr=fake_sr, x_axis=\"time\", y_axis=\"log\")\n",
    "plt.colorbar(format=\"%+2.0f dB\")\n",
    "plt.title(\"Fake Audio Spectogram\")\n",
    "plt.show()"
   ]
  },
  {
   "cell_type": "code",
   "execution_count": null,
   "metadata": {
    "execution": {
     "iopub.execute_input": "2023-12-21T16:34:15.18461Z",
     "iopub.status.busy": "2023-12-21T16:34:15.184203Z",
     "iopub.status.idle": "2023-12-21T16:34:15.969352Z",
     "shell.execute_reply": "2023-12-21T16:34:15.968222Z",
     "shell.execute_reply.started": "2023-12-21T16:34:15.184576Z"
    }
   },
   "outputs": [],
   "source": [
    "fake_mel_spect = librosa.feature.melspectrogram(y=fake_ad, sr=fake_sr)\n",
    "fake_mel_spect = librosa.power_to_db(fake_mel_spect, ref=np.max)\n",
    "\n",
    "plt.figure(figsize=(14, 5))\n",
    "librosa.display.specshow(fake_mel_spect, y_axis=\"mel\", x_axis=\"time\")\n",
    "plt.title(\"Fake Audio Mel Spectogram\")\n",
    "plt.colorbar(format=\"%+2.0f dB\")\n",
    "plt.show()"
   ]
  },
  {
   "cell_type": "code",
   "execution_count": null,
   "metadata": {
    "execution": {
     "iopub.execute_input": "2023-12-21T16:34:15.972836Z",
     "iopub.status.busy": "2023-12-21T16:34:15.97087Z",
     "iopub.status.idle": "2023-12-21T16:34:17.299497Z",
     "shell.execute_reply": "2023-12-21T16:34:17.298222Z",
     "shell.execute_reply.started": "2023-12-21T16:34:15.972786Z"
    }
   },
   "outputs": [],
   "source": [
    "fake_chroma = librosa.feature.chroma_cqt(y=fake_ad, sr=fake_sr, bins_per_octave=36)\n",
    "\n",
    "plt.figure(figsize=(14, 5))\n",
    "librosa.display.specshow(fake_chroma, sr=fake_sr, x_axis=\"time\", y_axis=\"chroma\", vmin=0, vmax=1)\n",
    "plt.colorbar()\n",
    "plt.title(\"Fake Audio Chromagram\")\n",
    "plt.show()"
   ]
  },
  {
   "cell_type": "code",
   "execution_count": null,
   "metadata": {
    "execution": {
     "iopub.execute_input": "2023-12-21T16:34:17.303686Z",
     "iopub.status.busy": "2023-12-21T16:34:17.302924Z",
     "iopub.status.idle": "2023-12-21T16:34:17.799842Z",
     "shell.execute_reply": "2023-12-21T16:34:17.798252Z",
     "shell.execute_reply.started": "2023-12-21T16:34:17.303639Z"
    }
   },
   "outputs": [],
   "source": [
    "fake_mfccs = librosa.feature.mfcc(y=fake_ad, sr=fake_sr)\n",
    "\n",
    "plt.figure(figsize=(14, 5))\n",
    "librosa.display.specshow(fake_mfccs, sr=fake_sr, x_axis=\"time\")\n",
    "plt.colorbar()\n",
    "plt.title(\"Fake Audio Mel-Frequency Cepstral Coefficients (MFCCs)\")\n",
    "plt.show()"
   ]
  },
  {
   "cell_type": "markdown",
   "metadata": {},
   "source": [
    "# Preprocess"
   ]
  },
  {
   "cell_type": "code",
   "execution_count": null,
   "metadata": {
    "execution": {
     "iopub.execute_input": "2023-12-21T16:34:20.882808Z",
     "iopub.status.busy": "2023-12-21T16:34:20.882349Z",
     "iopub.status.idle": "2023-12-21T16:42:33.836183Z",
     "shell.execute_reply": "2023-12-21T16:42:33.834738Z",
     "shell.execute_reply.started": "2023-12-21T16:34:20.882773Z"
    }
   },
   "outputs": [],
   "source": [
    "data = []\n",
    "labels = []\n",
    "\n",
    "for folder in folders:\n",
    "    files = os.listdir(os.path.join(audio_files_path, folder))\n",
    "    for file in tqdm(files):\n",
    "        file_path = os.path.join(audio_files_path, folder, file)\n",
    "        audio, sample_rate = librosa.load(file_path, res_type=\"kaiser_fast\")\n",
    "        mfccs_features = librosa.feature.mfcc(y=audio, sr=sample_rate, n_mfcc=40)\n",
    "        mfccs_features_scaled = np.mean(mfccs_features.T, axis=0)\n",
    "        data.append(mfccs_features_scaled)\n",
    "        labels.append(folder)"
   ]
  },
  {
   "cell_type": "code",
   "execution_count": null,
   "metadata": {
    "execution": {
     "iopub.execute_input": "2023-12-21T16:42:35.751688Z",
     "iopub.status.busy": "2023-12-21T16:42:35.751239Z",
     "iopub.status.idle": "2023-12-21T16:42:35.7772Z",
     "shell.execute_reply": "2023-12-21T16:42:35.776238Z",
     "shell.execute_reply.started": "2023-12-21T16:42:35.751654Z"
    }
   },
   "outputs": [],
   "source": [
    "feature_df = pd.DataFrame({\"features\": data, \"class\": labels})\n",
    "feature_df.head()"
   ]
  },
  {
   "cell_type": "code",
   "execution_count": null,
   "metadata": {
    "execution": {
     "iopub.execute_input": "2023-12-21T16:42:40.101038Z",
     "iopub.status.busy": "2023-12-21T16:42:40.099955Z",
     "iopub.status.idle": "2023-12-21T16:42:40.114586Z",
     "shell.execute_reply": "2023-12-21T16:42:40.113356Z",
     "shell.execute_reply.started": "2023-12-21T16:42:40.100988Z"
    }
   },
   "outputs": [],
   "source": [
    "feature_df[\"class\"].value_counts()"
   ]
  },
  {
   "cell_type": "code",
   "execution_count": null,
   "metadata": {
    "execution": {
     "iopub.execute_input": "2023-12-21T16:42:43.772272Z",
     "iopub.status.busy": "2023-12-21T16:42:43.771794Z",
     "iopub.status.idle": "2023-12-21T16:42:43.778717Z",
     "shell.execute_reply": "2023-12-21T16:42:43.777349Z",
     "shell.execute_reply.started": "2023-12-21T16:42:43.772238Z"
    }
   },
   "outputs": [],
   "source": [
    "def label_encoder(column):\n",
    "    le = LabelEncoder().fit(column)\n",
    "    print(column.name, le.classes_)\n",
    "    return le.transform(column)"
   ]
  },
  {
   "cell_type": "code",
   "execution_count": null,
   "metadata": {
    "execution": {
     "iopub.execute_input": "2023-12-21T16:42:49.731325Z",
     "iopub.status.busy": "2023-12-21T16:42:49.730845Z",
     "iopub.status.idle": "2023-12-21T16:42:49.740023Z",
     "shell.execute_reply": "2023-12-21T16:42:49.738811Z",
     "shell.execute_reply.started": "2023-12-21T16:42:49.731285Z"
    }
   },
   "outputs": [],
   "source": [
    "feature_df[\"class\"] = label_encoder(feature_df[\"class\"])"
   ]
  },
  {
   "cell_type": "markdown",
   "metadata": {},
   "source": [
    "# Feature Scaling"
   ]
  },
  {
   "cell_type": "code",
   "execution_count": null,
   "metadata": {
    "execution": {
     "iopub.execute_input": "2023-12-21T16:42:59.632919Z",
     "iopub.status.busy": "2023-12-21T16:42:59.632309Z",
     "iopub.status.idle": "2023-12-21T16:42:59.640112Z",
     "shell.execute_reply": "2023-12-21T16:42:59.638831Z",
     "shell.execute_reply.started": "2023-12-21T16:42:59.632866Z"
    }
   },
   "outputs": [],
   "source": [
    "X = np.array(feature_df[\"features\"].tolist())\n",
    "y = np.array(feature_df[\"class\"].tolist())"
   ]
  },
  {
   "cell_type": "code",
   "execution_count": null,
   "metadata": {
    "execution": {
     "iopub.execute_input": "2023-12-21T16:43:10.523697Z",
     "iopub.status.busy": "2023-12-21T16:43:10.523262Z",
     "iopub.status.idle": "2023-12-21T16:43:10.53257Z",
     "shell.execute_reply": "2023-12-21T16:43:10.531254Z",
     "shell.execute_reply.started": "2023-12-21T16:43:10.523663Z"
    }
   },
   "outputs": [],
   "source": [
    "ros = RandomOverSampler(random_state=42)\n",
    "X_resampled, y_resampled = ros.fit_resample(X, y)"
   ]
  },
  {
   "cell_type": "code",
   "execution_count": null,
   "metadata": {
    "execution": {
     "iopub.execute_input": "2023-12-21T16:43:16.020848Z",
     "iopub.status.busy": "2023-12-21T16:43:16.020386Z",
     "iopub.status.idle": "2023-12-21T16:43:16.027299Z",
     "shell.execute_reply": "2023-12-21T16:43:16.025803Z",
     "shell.execute_reply.started": "2023-12-21T16:43:16.020809Z"
    }
   },
   "outputs": [],
   "source": [
    "y_resampled = to_categorical(y_resampled)"
   ]
  },
  {
   "cell_type": "code",
   "execution_count": null,
   "metadata": {
    "execution": {
     "iopub.execute_input": "2023-12-21T16:43:19.533813Z",
     "iopub.status.busy": "2023-12-21T16:43:19.533103Z",
     "iopub.status.idle": "2023-12-21T16:43:19.543961Z",
     "shell.execute_reply": "2023-12-21T16:43:19.541977Z",
     "shell.execute_reply.started": "2023-12-21T16:43:19.533762Z"
    }
   },
   "outputs": [],
   "source": [
    "X_train, X_test, y_train, y_test = train_test_split(X_resampled, y_resampled, test_size=0.2, random_state=42)"
   ]
  },
  {
   "cell_type": "code",
   "execution_count": null,
   "metadata": {
    "execution": {
     "iopub.execute_input": "2023-12-21T16:43:22.855475Z",
     "iopub.status.busy": "2023-12-21T16:43:22.854963Z",
     "iopub.status.idle": "2023-12-21T16:43:22.869075Z",
     "shell.execute_reply": "2023-12-21T16:43:22.867771Z",
     "shell.execute_reply.started": "2023-12-21T16:43:22.855434Z"
    }
   },
   "outputs": [],
   "source": [
    "num_labels = len(feature_df[\"class\"].unique())\n",
    "num_labels"
   ]
  },
  {
   "cell_type": "code",
   "execution_count": null,
   "metadata": {
    "execution": {
     "iopub.execute_input": "2023-12-21T16:43:26.513793Z",
     "iopub.status.busy": "2023-12-21T16:43:26.513257Z",
     "iopub.status.idle": "2023-12-21T16:43:26.525257Z",
     "shell.execute_reply": "2023-12-21T16:43:26.524373Z",
     "shell.execute_reply.started": "2023-12-21T16:43:26.513748Z"
    }
   },
   "outputs": [],
   "source": [
    "input_shape = feature_df[\"features\"][0].shape\n",
    "input_shape"
   ]
  },
  {
   "cell_type": "markdown",
   "metadata": {},
   "source": [
    "# Model"
   ]
  },
  {
   "cell_type": "code",
   "execution_count": null,
   "metadata": {
    "execution": {
     "iopub.execute_input": "2023-12-21T16:43:34.656272Z",
     "iopub.status.busy": "2023-12-21T16:43:34.654246Z",
     "iopub.status.idle": "2023-12-21T16:43:35.016407Z",
     "shell.execute_reply": "2023-12-21T16:43:35.015002Z",
     "shell.execute_reply.started": "2023-12-21T16:43:34.656206Z"
    }
   },
   "outputs": [],
   "source": [
    "model = Sequential()\n",
    "model.add(Dense(128, input_shape=input_shape))\n",
    "model.add(Activation(activation=\"relu\"))\n",
    "model.add(Dropout(0.5))\n",
    "model.add(Dense(256))\n",
    "model.add(Activation(activation=\"relu\"))\n",
    "model.add(Dropout(0.5))\n",
    "model.add(Dense(128))\n",
    "model.add(Activation(activation=\"relu\"))\n",
    "model.add(Dropout(0.5))\n",
    "model.add(Dense(num_labels))\n",
    "model.add(Activation(activation=\"softmax\"))"
   ]
  },
  {
   "cell_type": "code",
   "execution_count": null,
   "metadata": {
    "execution": {
     "iopub.execute_input": "2023-12-21T16:44:13.639926Z",
     "iopub.status.busy": "2023-12-21T16:44:13.638371Z",
     "iopub.status.idle": "2023-12-21T16:44:13.65634Z",
     "shell.execute_reply": "2023-12-21T16:44:13.654962Z",
     "shell.execute_reply.started": "2023-12-21T16:44:13.639845Z"
    }
   },
   "outputs": [],
   "source": [
    "model.compile(loss=\"categorical_crossentropy\", optimizer=\"adam\", metrics=[\"accuracy\"])"
   ]
  },
  {
   "cell_type": "code",
   "execution_count": null,
   "metadata": {
    "execution": {
     "iopub.execute_input": "2023-12-21T16:44:13.898821Z",
     "iopub.status.busy": "2023-12-21T16:44:13.898348Z",
     "iopub.status.idle": "2023-12-21T16:44:13.932351Z",
     "shell.execute_reply": "2023-12-21T16:44:13.931202Z",
     "shell.execute_reply.started": "2023-12-21T16:44:13.898782Z"
    }
   },
   "outputs": [],
   "source": [
    "model.summary()"
   ]
  },
  {
   "cell_type": "code",
   "execution_count": null,
   "metadata": {
    "execution": {
     "iopub.execute_input": "2023-12-21T16:44:14.214616Z",
     "iopub.status.busy": "2023-12-21T16:44:14.214166Z",
     "iopub.status.idle": "2023-12-21T16:44:14.221126Z",
     "shell.execute_reply": "2023-12-21T16:44:14.219779Z",
     "shell.execute_reply.started": "2023-12-21T16:44:14.214581Z"
    }
   },
   "outputs": [],
   "source": [
    "early = EarlyStopping(monitor=\"val_loss\", patience=5)"
   ]
  },
  {
   "cell_type": "code",
   "execution_count": null,
   "metadata": {
    "execution": {
     "iopub.execute_input": "2023-12-21T16:44:20.110104Z",
     "iopub.status.busy": "2023-12-21T16:44:20.109602Z",
     "iopub.status.idle": "2023-12-21T16:44:23.056216Z",
     "shell.execute_reply": "2023-12-21T16:44:23.055009Z",
     "shell.execute_reply.started": "2023-12-21T16:44:20.110065Z"
    }
   },
   "outputs": [],
   "source": [
    "history = model.fit(X_train, y_train, validation_data=(X_test, y_test), batch_size=2, epochs=100, callbacks=[early])"
   ]
  },
  {
   "cell_type": "code",
   "execution_count": null,
   "metadata": {
    "execution": {
     "iopub.execute_input": "2023-12-21T16:44:27.957105Z",
     "iopub.status.busy": "2023-12-21T16:44:27.956339Z",
     "iopub.status.idle": "2023-12-21T16:44:28.045483Z",
     "shell.execute_reply": "2023-12-21T16:44:28.044225Z",
     "shell.execute_reply.started": "2023-12-21T16:44:27.957057Z"
    }
   },
   "outputs": [],
   "source": [
    "test_loss, test_acc = model.evaluate(X_test, y_test)\n",
    "print(\"Test Loss:\", test_loss)\n",
    "print(\"Test Accuracy:\", test_acc)"
   ]
  },
  {
   "cell_type": "code",
   "execution_count": null,
   "metadata": {
    "execution": {
     "iopub.execute_input": "2023-12-21T16:45:03.3803Z",
     "iopub.status.busy": "2023-12-21T16:45:03.379787Z",
     "iopub.status.idle": "2023-12-21T16:45:03.657995Z",
     "shell.execute_reply": "2023-12-21T16:45:03.656886Z",
     "shell.execute_reply.started": "2023-12-21T16:45:03.380262Z"
    }
   },
   "outputs": [],
   "source": [
    "plt.figure()\n",
    "plt.title(\"Model Accuracy\")\n",
    "plt.plot(history.history[\"accuracy\"], label=\"train\")\n",
    "plt.plot(history.history[\"val_accuracy\"], label=\"validation\")\n",
    "plt.legend()\n",
    "plt.ylim([0, 1])\n",
    "plt.show()"
   ]
  },
  {
   "cell_type": "code",
   "execution_count": null,
   "metadata": {
    "execution": {
     "iopub.execute_input": "2023-12-21T16:44:55.729053Z",
     "iopub.status.busy": "2023-12-21T16:44:55.728548Z",
     "iopub.status.idle": "2023-12-21T16:44:55.967022Z",
     "shell.execute_reply": "2023-12-21T16:44:55.965856Z",
     "shell.execute_reply.started": "2023-12-21T16:44:55.72901Z"
    }
   },
   "outputs": [],
   "source": [
    "plt.figure()\n",
    "plt.title(\"Model Loss\")\n",
    "plt.plot(history.history[\"loss\"], label=\"train\")\n",
    "plt.plot(history.history[\"val_loss\"], label=\"validation\")\n",
    "plt.legend()\n",
    "plt.ylim([0, 1])\n",
    "plt.show()"
   ]
  },
  {
   "cell_type": "markdown",
   "metadata": {},
   "source": [
    "# Test"
   ]
  },
  {
   "cell_type": "code",
   "execution_count": null,
   "metadata": {
    "execution": {
     "iopub.execute_input": "2023-12-21T16:45:11.907649Z",
     "iopub.status.busy": "2023-12-21T16:45:11.907179Z",
     "iopub.status.idle": "2023-12-21T16:45:11.914986Z",
     "shell.execute_reply": "2023-12-21T16:45:11.91384Z",
     "shell.execute_reply.started": "2023-12-21T16:45:11.907611Z"
    }
   },
   "outputs": [],
   "source": [
    "def detect_fake(filename):\n",
    "    sound_signal, sample_rate = librosa.load(filename, res_type=\"kaiser_fast\")\n",
    "    mfcc_features = librosa.feature.mfcc(y=sound_signal, sr=sample_rate, n_mfcc=40)\n",
    "    mfccs_features_scaled = np.mean(mfcc_features.T, axis=0)\n",
    "    mfccs_features_scaled = mfccs_features_scaled.reshape(1, -1)\n",
    "    result_array = model.predict(mfccs_features_scaled)\n",
    "    print(result_array)\n",
    "    result_classes = [\"FAKE\", \"REAL\"]\n",
    "    result = np.argmax(result_array[0])\n",
    "    print(\"Result:\", result_classes[result])"
   ]
  },
  {
   "cell_type": "code",
   "execution_count": 1,
   "metadata": {
    "execution": {
     "iopub.execute_input": "2023-12-21T16:45:55.83761Z",
     "iopub.status.busy": "2023-12-21T16:45:55.837116Z",
     "iopub.status.idle": "2023-12-21T16:45:55.844135Z",
     "shell.execute_reply": "2023-12-21T16:45:55.842611Z",
     "shell.execute_reply.started": "2023-12-21T16:45:55.837569Z"
    }
   },
   "outputs": [],
   "source": [
    "test_real = \"../dataset/input/linus-original-DEMO.mp3\"\n",
    "test_fake = \"../dataset/input/linus-to-musk-DEMO.mp3\""
   ]
  },
  {
   "cell_type": "code",
   "execution_count": null,
   "metadata": {
    "execution": {
     "iopub.execute_input": "2023-12-21T16:45:56.3747Z",
     "iopub.status.busy": "2023-12-21T16:45:56.37424Z",
     "iopub.status.idle": "2023-12-21T16:45:57.409349Z",
     "shell.execute_reply": "2023-12-21T16:45:57.408425Z",
     "shell.execute_reply.started": "2023-12-21T16:45:56.374665Z"
    }
   },
   "outputs": [],
   "source": [
    "detect_fake(test_real)"
   ]
  },
  {
   "cell_type": "code",
   "execution_count": null,
   "metadata": {
    "execution": {
     "iopub.execute_input": "2023-12-21T16:45:57.411303Z",
     "iopub.status.busy": "2023-12-21T16:45:57.410936Z",
     "iopub.status.idle": "2023-12-21T16:45:58.43972Z",
     "shell.execute_reply": "2023-12-21T16:45:58.438605Z",
     "shell.execute_reply.started": "2023-12-21T16:45:57.411273Z"
    }
   },
   "outputs": [],
   "source": [
    "detect_fake(test_fake)"
   ]
  },
  {
   "cell_type": "code",
   "execution_count": null,
   "metadata": {},
   "outputs": [],
   "source": []
  }
 ],
 "metadata": {
  "kaggle": {
   "accelerator": "none",
   "dataSources": [
    {
     "datasetId": 3579787,
     "sourceId": 6358196,
     "sourceType": "datasetVersion"
    }
   ],
   "dockerImageVersionId": 30626,
   "isGpuEnabled": false,
   "isInternetEnabled": false,
   "language": "python",
   "sourceType": "notebook"
  },
  "kernelspec": {
   "display_name": "Python 3 (ipykernel)",
   "language": "python",
   "name": "python3"
  },
  "language_info": {
   "codemirror_mode": {
    "name": "ipython",
    "version": 3
   },
   "file_extension": ".py",
   "mimetype": "text/x-python",
   "name": "python",
   "nbconvert_exporter": "python",
   "pygments_lexer": "ipython3",
   "version": "3.12.5"
  }
 },
 "nbformat": 4,
 "nbformat_minor": 4
}
